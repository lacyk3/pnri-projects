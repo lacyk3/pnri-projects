{
 "cells": [
  {
   "cell_type": "markdown",
   "metadata": {},
   "source": [
    " **Run the next cell to set up the functions that will rename each image according to the detected barcode.** \n",
    "    * Note that you will need to have the following packages installed: [numpy](https://numpy.org/install/), [pandas](https://pandas.pydata.org/pandas-docs/stable/getting_started/install.html), [pillow](https://pillow.readthedocs.io/en/stable/installation.html), and [pyzbar](https://pypi.org/project/pyzbar/)\n",
    "    * You will need to have this notebook saved in the same folder as the excel sheet matching each bar code to the corresponding plate information, which should have column names matching the example provided ('Barcode', 'Plate', 'Condition'). It will not impact the function of this script if there are additional columns.\n",
    "    * All images to be processed should be saved in the same folder. The path to this folder will be one of the arguments provided to the re-naming function\n",
    "    * This function is currently set up to handle jpeg images\n",
    "    * The function takes an optional argument 'key', which will be included in every new image name. If no key is entered, this field is left blank."
   ]
  },
  {
   "cell_type": "code",
   "execution_count": null,
   "metadata": {},
   "outputs": [],
   "source": [
    "# --- import packages\n",
    "import numpy as np\n",
    "import pandas as pd\n",
    "import glob\n",
    "import os\n",
    "\n",
    "from PIL import Image\n",
    "from PIL.ExifTags import TAGS\n",
    "from pyzbar.pyzbar import decode\n",
    "\n",
    "# --- define functions\n",
    "\n",
    "def get_field (exif,field):\n",
    "    for (k,v) in exif.items():\n",
    "        if TAGS.get(k) == field:\n",
    "            return v\n",
    "\n",
    "def rename_images(image_folder_path, mastersheet, key =''):\n",
    "    cwd = os.getcwd() # save path to current working directory\n",
    "    df = pd.read_excel (mastersheet) # read in plate info -- master sheet must be saved in current working directory\n",
    "    s = df['Barcode'] # build data frame from master sheet\n",
    "    \n",
    "    os.chdir(image_folder_path) # move to image folder\n",
    "    image_filenames = glob.glob('*.jpg') + glob.glob('*.JPG') # make a list of all .jpg files\n",
    "    print('Processing ' + str(len(image_filenames)) + ' images...') # print number of images detected to the screen\n",
    "    \n",
    "    for filename in image_filenames:\n",
    "        image = Image.open(filename)\n",
    "        im = np.array(image)\n",
    "        all_the_info = decode(im) # detect and decode barcode\n",
    "        if not all_the_info: \n",
    "            continue # if barcode is not legible skip this image\n",
    "        barcode = all_the_info[0].data\n",
    "        d = barcode.decode('ASCII') # translate to digit\n",
    "        try:\n",
    "            image_row = df.loc[s==int(d)] # find which row this barcode corresponds to in the mastersheet\n",
    "            info = image_row.iloc[0] \n",
    "            exif_data = image._getexif()\n",
    "            DT = get_field(exif_data,'DateTime')\n",
    "            Time = DT.split()[1]\n",
    "            Time = Time.replace(':','-')\n",
    "            # new image name contains the plate info, condition info, key (24H, 48H, 72H, SW, HW), and time info\n",
    "            new_name = info.Plate+'_'+info.Condition+'_'+key+'_'+Time+'.jpg'\n",
    "            dst = new_name\n",
    "            src = filename\n",
    "            # rename image in place\n",
    "            os.rename(src,dst)\n",
    "        except: \n",
    "            print('Barcode'+str(d)+' is not on the master sheet.') # print out missing barcodes, if any\n",
    "    os.chdir(cwd)\n"
   ]
  },
  {
   "cell_type": "markdown",
   "metadata": {},
   "source": [
    "**Run the next cell to rename the images contained in ImageFolder according to their barcode.** \n",
    "\n",
    "The new name will be 'Plate_Condition_key_hr-min-sec.jpg'. The only output to the screen will be the number of images in the folder that are being processed. If a barcode is detected that is not included on the master sheet this will also be reported. "
   ]
  },
  {
   "cell_type": "code",
   "execution_count": null,
   "metadata": {},
   "outputs": [],
   "source": [
    "image_folder_path = r'C:\\Users\\User\\Desktop\\ImageFolder' # replace with path to image folder\n",
    "mastersheet = 'Plate Name Master Sheet.xlsx' # replace with name of master sheet, saved in current working directory\n",
    "key = 'SW' # Images were saved in folders according to the time point at which they were taken. \n",
    "           # This info is encoded in the new image names as\n",
    "           # '24H', '48H', '72H', 'SW' (for soft wash), or 'HW' (for hard wash)\n",
    "        \n",
    "rename_images(image_folder_path,mastersheet,key = key)"
   ]
  }
 ],
 "metadata": {
  "kernelspec": {
   "display_name": "Python 3",
   "language": "python",
   "name": "python3"
  },
  "language_info": {
   "codemirror_mode": {
    "name": "ipython",
    "version": 3
   },
   "file_extension": ".py",
   "mimetype": "text/x-python",
   "name": "python",
   "nbconvert_exporter": "python",
   "pygments_lexer": "ipython3",
   "version": "3.7.1"
  }
 },
 "nbformat": 4,
 "nbformat_minor": 2
}
